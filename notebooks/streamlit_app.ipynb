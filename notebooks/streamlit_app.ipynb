{
 "cells": [
  {
   "cell_type": "code",
   "execution_count": 1,
   "metadata": {},
   "outputs": [],
   "source": [
    "# Streamlit App in Notebook Format (Phase 6)\n",
    "\n",
    "import streamlit as st\n",
    "import pandas as pd\n",
    "import matplotlib.pyplot as plt\n",
    "import seaborn as sns\n"
   ]
  },
  {
   "cell_type": "code",
   "execution_count": 2,
   "metadata": {},
   "outputs": [
    {
     "name": "stderr",
     "output_type": "stream",
     "text": [
      "2025-03-29 21:39:47.448 \n",
      "  \u001b[33m\u001b[1mWarning:\u001b[0m to view this Streamlit app on a browser, run it with the following\n",
      "  command:\n",
      "\n",
      "    streamlit run c:\\Users\\reach\\anaconda3\\Lib\\site-packages\\ipykernel_launcher.py [ARGUMENTS]\n"
     ]
    },
    {
     "data": {
      "text/plain": [
       "DeltaGenerator()"
      ]
     },
     "execution_count": 2,
     "metadata": {},
     "output_type": "execute_result"
    }
   ],
   "source": [
    "# Page Configuration\n",
    "st.set_page_config(page_title=\"API Anomaly Dashboard\", layout=\"wide\")\n",
    "st.title(\"API Consumer Analytics & Anomaly Detection\")"
   ]
  },
  {
   "cell_type": "code",
   "execution_count": 4,
   "metadata": {},
   "outputs": [
    {
     "name": "stderr",
     "output_type": "stream",
     "text": [
      "2025-03-29 21:39:57.997 No runtime found, using MemoryCacheStorageManager\n",
      "2025-03-29 21:39:58.017 No runtime found, using MemoryCacheStorageManager\n"
     ]
    }
   ],
   "source": [
    "# Load Data with Caching\n",
    "@st.cache_data\n",
    "def load_data():\n",
    "    df = pd.read_csv(\"../data/api_logs_engineered.csv\", parse_dates=['timestamp'])\n",
    "\n",
    "    return df\n",
    "\n",
    "df = load_data()"
   ]
  },
  {
   "cell_type": "code",
   "execution_count": 5,
   "metadata": {},
   "outputs": [],
   "source": [
    "# Sidebar Filters\n",
    "endpoints = df['api_endpoint'].unique().tolist()\n",
    "consumers = df['consumer_id'].unique().tolist()\n",
    "\n",
    "selected_endpoints = st.sidebar.multiselect(\"Select Endpoints\", endpoints, default=endpoints)\n",
    "selected_consumers = st.sidebar.multiselect(\"Select Consumers\", consumers, default=consumers)\n",
    "date_range = st.sidebar.date_input(\"Date Range\", [df['timestamp'].min(), df['timestamp'].max()])"
   ]
  },
  {
   "cell_type": "code",
   "execution_count": 6,
   "metadata": {},
   "outputs": [],
   "source": [
    "# Apply Filters\n",
    "filtered_df = df[\n",
    "    (df['api_endpoint'].isin(selected_endpoints)) &\n",
    "    (df['consumer_id'].isin(selected_consumers)) &\n",
    "    (df['timestamp'].dt.date >= date_range[0]) &\n",
    "    (df['timestamp'].dt.date <= date_range[1])\n",
    "]"
   ]
  },
  {
   "cell_type": "code",
   "execution_count": 7,
   "metadata": {},
   "outputs": [
    {
     "data": {
      "text/plain": [
       "DeltaGenerator()"
      ]
     },
     "execution_count": 7,
     "metadata": {},
     "output_type": "execute_result"
    }
   ],
   "source": [
    "# API Usage Over Time\n",
    "st.subheader(\"API Traffic Over Time\")\n",
    "time_series = filtered_df.set_index('timestamp').resample('D').size()\n",
    "fig1, ax1 = plt.subplots(figsize=(12, 4))\n",
    "time_series.plot(ax=ax1)\n",
    "ax1.set_ylabel(\"Requests\")\n",
    "st.pyplot(fig1)"
   ]
  },
  {
   "cell_type": "code",
   "execution_count": 9,
   "metadata": {},
   "outputs": [
    {
     "data": {
      "text/plain": [
       "DeltaGenerator()"
      ]
     },
     "execution_count": 9,
     "metadata": {},
     "output_type": "execute_result"
    }
   ],
   "source": [
    "# KPIs\n",
    "col1, col2, col3 = st.columns(3)\n",
    "total_requests = len(filtered_df)\n",
    "total_users = filtered_df['consumer_id'].nunique()\n",
    "unique_endpoints = filtered_df['api_endpoint'].nunique()\n",
    "\n",
    "col1.metric(\"Total Requests\", f\"{total_requests:,}\")\n",
    "col2.metric(\"Unique Consumers\", f\"{total_users:,}\")\n",
    "col3.metric(\"Endpoints Accessed\", f\"{unique_endpoints}\")"
   ]
  },
  {
   "cell_type": "code",
   "execution_count": 11,
   "metadata": {},
   "outputs": [
    {
     "data": {
      "text/plain": [
       "DeltaGenerator()"
      ]
     },
     "execution_count": 11,
     "metadata": {},
     "output_type": "execute_result"
    }
   ],
   "source": [
    "# Hourly Traffic Distribution\n",
    "st.subheader(\"API Request Volume by Hour of Day\")\n",
    "filtered_df['hour'] = filtered_df['timestamp'].dt.hour\n",
    "hourly_counts = filtered_df.groupby('hour').size()\n",
    "fig3, ax3 = plt.subplots(figsize=(10, 4))\n",
    "sns.lineplot(x=hourly_counts.index, y=hourly_counts.values, marker=\"o\", ax=ax3)\n",
    "ax3.set_xlabel(\"Hour of Day\")\n",
    "ax3.set_ylabel(\"Request Count\")\n",
    "st.pyplot(fig3)"
   ]
  },
  {
   "cell_type": "code",
   "execution_count": 12,
   "metadata": {},
   "outputs": [
    {
     "data": {
      "text/plain": [
       "DeltaGenerator()"
      ]
     },
     "execution_count": 12,
     "metadata": {},
     "output_type": "execute_result"
    }
   ],
   "source": [
    "# Top Consumers by Request Volume\n",
    "st.subheader(\"Top Consumers by Total Requests\")\n",
    "top_consumers = (\n",
    "    filtered_df.groupby('consumer_id')\n",
    "    .size()\n",
    "    .sort_values(ascending=False)\n",
    "    .head(10)\n",
    "    .reset_index(name='Request Count')\n",
    ")\n",
    "st.dataframe(top_consumers)"
   ]
  },
  {
   "cell_type": "code",
   "execution_count": 13,
   "metadata": {},
   "outputs": [
    {
     "data": {
      "text/plain": [
       "DeltaGenerator()"
      ]
     },
     "execution_count": 13,
     "metadata": {},
     "output_type": "execute_result"
    }
   ],
   "source": [
    "# Average Response Time by Endpoint\n",
    "st.subheader(\"Average Response Time per Endpoint\")\n",
    "response_time_stats = (\n",
    "    filtered_df.groupby('api_endpoint')['response_time_ms']\n",
    "    .mean()\n",
    "    .sort_values(ascending=False)\n",
    "    .head(10)\n",
    ")\n",
    "fig4, ax4 = plt.subplots(figsize=(10, 4))\n",
    "sns.barplot(x=response_time_stats.values, y=response_time_stats.index, ax=ax4)\n",
    "ax4.set_xlabel(\"Avg Response Time (ms)\")\n",
    "st.pyplot(fig4)"
   ]
  },
  {
   "cell_type": "code",
   "execution_count": 14,
   "metadata": {},
   "outputs": [
    {
     "data": {
      "text/plain": [
       "DeltaGenerator()"
      ]
     },
     "execution_count": 14,
     "metadata": {},
     "output_type": "execute_result"
    }
   ],
   "source": [
    "# Footer\n",
    "st.caption(\"Developed for CST2213 BI Programming Final Project using Streamlit\")"
   ]
  }
 ],
 "metadata": {
  "kernelspec": {
   "display_name": "base",
   "language": "python",
   "name": "python3"
  },
  "language_info": {
   "codemirror_mode": {
    "name": "ipython",
    "version": 3
   },
   "file_extension": ".py",
   "mimetype": "text/x-python",
   "name": "python",
   "nbconvert_exporter": "python",
   "pygments_lexer": "ipython3",
   "version": "3.12.7"
  }
 },
 "nbformat": 4,
 "nbformat_minor": 2
}
