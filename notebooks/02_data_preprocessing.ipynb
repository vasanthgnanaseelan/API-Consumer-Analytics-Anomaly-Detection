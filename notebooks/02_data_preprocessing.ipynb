{
 "cells": [
  {
   "cell_type": "markdown",
   "metadata": {},
   "source": [
    "Data Processing"
   ]
  },
  {
   "cell_type": "code",
   "execution_count": null,
   "metadata": {},
   "outputs": [
    {
     "name": "stdout",
     "output_type": "stream",
     "text": [
      "<class 'pandas.core.frame.DataFrame'>\n",
      "RangeIndex: 100000 entries, 0 to 99999\n",
      "Data columns (total 10 columns):\n",
      " #   Column            Non-Null Count   Dtype  \n",
      "---  ------            --------------   -----  \n",
      " 0   timestamp         100000 non-null  object \n",
      " 1   request_id        100000 non-null  object \n",
      " 2   api_endpoint      100000 non-null  object \n",
      " 3   response_time_ms  100000 non-null  float64\n",
      " 4   status_code       100000 non-null  int64  \n",
      " 5   cpu_usage         100000 non-null  float64\n",
      " 6   memory_usage      100000 non-null  float64\n",
      " 7   region            100000 non-null  object \n",
      " 8   user_agent        100000 non-null  object \n",
      " 9   consumer_id       100000 non-null  object \n",
      "dtypes: float64(3), int64(1), object(6)\n",
      "memory usage: 7.6+ MB\n"
     ]
    },
    {
     "data": {
      "text/html": [
       "<div>\n",
       "<style scoped>\n",
       "    .dataframe tbody tr th:only-of-type {\n",
       "        vertical-align: middle;\n",
       "    }\n",
       "\n",
       "    .dataframe tbody tr th {\n",
       "        vertical-align: top;\n",
       "    }\n",
       "\n",
       "    .dataframe thead th {\n",
       "        text-align: right;\n",
       "    }\n",
       "</style>\n",
       "<table border=\"1\" class=\"dataframe\">\n",
       "  <thead>\n",
       "    <tr style=\"text-align: right;\">\n",
       "      <th></th>\n",
       "      <th>response_time_ms</th>\n",
       "      <th>status_code</th>\n",
       "      <th>cpu_usage</th>\n",
       "      <th>memory_usage</th>\n",
       "    </tr>\n",
       "  </thead>\n",
       "  <tbody>\n",
       "    <tr>\n",
       "      <th>count</th>\n",
       "      <td>100000.000000</td>\n",
       "      <td>100000.000000</td>\n",
       "      <td>100000.000000</td>\n",
       "      <td>100000.000000</td>\n",
       "    </tr>\n",
       "    <tr>\n",
       "      <th>mean</th>\n",
       "      <td>200.243631</td>\n",
       "      <td>223.175130</td>\n",
       "      <td>52.581181</td>\n",
       "      <td>55.099813</td>\n",
       "    </tr>\n",
       "    <tr>\n",
       "      <th>std</th>\n",
       "      <td>50.261172</td>\n",
       "      <td>70.981668</td>\n",
       "      <td>24.544254</td>\n",
       "      <td>20.195929</td>\n",
       "    </tr>\n",
       "    <tr>\n",
       "      <th>min</th>\n",
       "      <td>0.640000</td>\n",
       "      <td>200.000000</td>\n",
       "      <td>10.000000</td>\n",
       "      <td>20.000000</td>\n",
       "    </tr>\n",
       "    <tr>\n",
       "      <th>25%</th>\n",
       "      <td>166.270000</td>\n",
       "      <td>200.000000</td>\n",
       "      <td>31.380000</td>\n",
       "      <td>37.640000</td>\n",
       "    </tr>\n",
       "    <tr>\n",
       "      <th>50%</th>\n",
       "      <td>200.310000</td>\n",
       "      <td>200.000000</td>\n",
       "      <td>52.715000</td>\n",
       "      <td>55.150000</td>\n",
       "    </tr>\n",
       "    <tr>\n",
       "      <th>75%</th>\n",
       "      <td>234.040000</td>\n",
       "      <td>200.000000</td>\n",
       "      <td>73.850000</td>\n",
       "      <td>72.610000</td>\n",
       "    </tr>\n",
       "    <tr>\n",
       "      <th>max</th>\n",
       "      <td>441.300000</td>\n",
       "      <td>500.000000</td>\n",
       "      <td>95.000000</td>\n",
       "      <td>90.000000</td>\n",
       "    </tr>\n",
       "  </tbody>\n",
       "</table>\n",
       "</div>"
      ],
      "text/plain": [
       "       response_time_ms    status_code      cpu_usage   memory_usage\n",
       "count     100000.000000  100000.000000  100000.000000  100000.000000\n",
       "mean         200.243631     223.175130      52.581181      55.099813\n",
       "std           50.261172      70.981668      24.544254      20.195929\n",
       "min            0.640000     200.000000      10.000000      20.000000\n",
       "25%          166.270000     200.000000      31.380000      37.640000\n",
       "50%          200.310000     200.000000      52.715000      55.150000\n",
       "75%          234.040000     200.000000      73.850000      72.610000\n",
       "max          441.300000     500.000000      95.000000      90.000000"
      ]
     },
     "execution_count": 1,
     "metadata": {},
     "output_type": "execute_result"
    }
   ],
   "source": [
    "#Load the Data\n",
    "#This script loads the data from the CSV file and displays the first few rows, info, and description of the dataset.\n",
    "#Import necessary libraries\n",
    "import pandas as pd\n",
    "\n",
    "df = pd.read_csv(\"../data/api_logs_simulated.csv\")\n",
    "df.head()\n",
    "df.info()\n",
    "df.describe()"
   ]
  },
  {
   "cell_type": "code",
   "execution_count": null,
   "metadata": {},
   "outputs": [],
   "source": [
    "# Check for missing values\n",
    "df.isnull().sum()\n",
    "df.isna().sum()\n",
    "df.dropna(inplace=True)"
   ]
  },
  {
   "cell_type": "code",
   "execution_count": null,
   "metadata": {},
   "outputs": [
    {
     "data": {
      "text/plain": [
       "0"
      ]
     },
     "execution_count": 3,
     "metadata": {},
     "output_type": "execute_result"
    }
   ],
   "source": [
    "# Check for missing values in the 'response_time_ms' column\n",
    "df['response_time_ms'] = df['response_time_ms'].fillna(df['response_time_ms'].median())\n",
    "df['response_time_ms'].isnull().sum()\n",
    "df['response_time_ms'].isna().sum()"
   ]
  },
  {
   "cell_type": "code",
   "execution_count": null,
   "metadata": {},
   "outputs": [
    {
     "data": {
      "text/plain": [
       "100000"
      ]
     },
     "execution_count": 4,
     "metadata": {},
     "output_type": "execute_result"
    }
   ],
   "source": [
    "#Remove Duplicates (based on request_id)\n",
    "df = df.drop_duplicates(subset='request_id')\n",
    "df['request_id'].duplicated().sum()\n",
    "df['request_id'].nunique()"
   ]
  },
  {
   "cell_type": "code",
   "execution_count": null,
   "metadata": {},
   "outputs": [],
   "source": [
    "#Convert Timestamps\n",
    "df['timestamp'] = pd.to_datetime(df['timestamp'], utc=True)"
   ]
  },
  {
   "cell_type": "code",
   "execution_count": null,
   "metadata": {},
   "outputs": [],
   "source": [
    "# Detect Outliers (Response Time)\n",
    "Q1 = df['response_time_ms'].quantile(0.25)\n",
    "Q3 = df['response_time_ms'].quantile(0.75)\n",
    "IQR = Q3 - Q1\n",
    "df['is_latency_outlier'] = ((df['response_time_ms'] < (Q1 - 1.5 * IQR)) | (df['response_time_ms'] > (Q3 + 1.5 * IQR)))\n"
   ]
  },
  {
   "cell_type": "markdown",
   "metadata": {},
   "source": [
    "Feature engineering"
   ]
  },
  {
   "cell_type": "code",
   "execution_count": 8,
   "metadata": {},
   "outputs": [],
   "source": [
    "df['hour'] = df['timestamp'].dt.hour\n",
    "df['day_of_week'] = df['timestamp'].dt.dayofweek\n",
    "df['error_flag'] = df['status_code'].apply(lambda x: 1 if x >= 400 else 0)\n",
    "df['latency_category'] = pd.qcut(df['response_time_ms'], q=4, labels=['low', 'medium', 'high', 'critical'])\n"
   ]
  },
  {
   "cell_type": "code",
   "execution_count": null,
   "metadata": {},
   "outputs": [],
   "source": [
    "# Create New Features\n",
    "# Extracting date and time features from the timestamp\n",
    "\n",
    "df['date'] = df['timestamp'].dt.date\n",
    "df['hour'] = df['timestamp'].dt.hour\n",
    "df['day_of_week'] = df['timestamp'].dt.dayofweek\n",
    "df['week_of_year'] = df['timestamp'].dt.isocalendar().week\n",
    "df['month'] = df['timestamp'].dt.month\n",
    "df['is_weekend'] = df['day_of_week'].isin([5, 6])\n",
    "df['is_peak_hour'] = df['hour'].between(9, 18)  # Business hours"
   ]
  },
  {
   "cell_type": "code",
   "execution_count": null,
   "metadata": {},
   "outputs": [],
   "source": [
    "# Create a new column for the time of day\n",
    "\n",
    "\n",
    "df['latency_zscore'] = (df['response_time_ms'] - df['response_time_ms'].mean()) / df['response_time_ms'].std()\n",
    "\n",
    "# Flag extreme outliers\n",
    "df['is_latency_outlier'] = df['latency_zscore'].abs() > 3\n",
    "\n",
    "# Bin latency into categories\n",
    "df['latency_category'] = pd.qcut(df['response_time_ms'], q=4, labels=['low', 'medium', 'high', 'critical'])\n",
    "\n",
    "# Resource load indicators\n",
    "df['cpu_load_category'] = pd.cut(df['cpu_usage'], bins=[0, 50, 75, 100], labels=['normal', 'elevated', 'high'])\n",
    "df['memory_load_category'] = pd.cut(df['memory_usage'], bins=[0, 50, 75, 100], labels=['normal', 'elevated', 'high'])\n"
   ]
  },
  {
   "cell_type": "code",
   "execution_count": 11,
   "metadata": {},
   "outputs": [],
   "source": [
    "# Flag error responses\n",
    "df['is_error'] = df['status_code'] >= 400\n",
    "\n",
    "# Error type\n",
    "df['error_type'] = df['status_code'].apply(\n",
    "    lambda x: 'client_error' if 400 <= x < 500 else 'server_error' if x >= 500 else 'success'\n",
    ")"
   ]
  },
  {
   "cell_type": "code",
   "execution_count": null,
   "metadata": {},
   "outputs": [],
   "source": [
    "# Request count per consumer per day\n",
    "\n",
    "consumer_day_counts = df.groupby(['consumer_id', 'date']).size().reset_index(name='requests_per_day')\n",
    "df = df.merge(consumer_day_counts, on=['consumer_id', 'date'], how='left')\n",
    "\n",
    "# Endpoint popularity (rolling average)\n",
    "\n",
    "endpoint_popularity = df.groupby('api_endpoint')['request_id'].transform('count')\n",
    "df['endpoint_popularity'] = endpoint_popularity\n"
   ]
  },
  {
   "cell_type": "code",
   "execution_count": null,
   "metadata": {},
   "outputs": [],
   "source": [
    "# Create a unique identifier for each API call\n",
    "\n",
    "df['api_signature'] = df['api_endpoint'] + \"_\" + df['status_code'].astype(str)"
   ]
  },
  {
   "cell_type": "code",
   "execution_count": null,
   "metadata": {},
   "outputs": [],
   "source": [
    "# Create a new column for the time of day\n",
    "\n",
    "df['error_flag'] = df['status_code'].apply(lambda x: 1 if x >= 400 else 0)\n",
    "daily_stats = df.groupby(['consumer_id', 'date']).agg({\n",
    "    'response_time_ms': 'mean',\n",
    "    'error_flag': 'sum',\n",
    "    'cpu_usage': 'mean',\n",
    "    'memory_usage': 'max'\n",
    "}).reset_index()"
   ]
  },
  {
   "cell_type": "code",
   "execution_count": null,
   "metadata": {},
   "outputs": [
    {
     "name": "stdout",
     "output_type": "stream",
     "text": [
      "Enhanced dataset saved to /data/api_logs_engineered.csv\n"
     ]
    }
   ],
   "source": [
    "# Merge daily stats back to the original dataframe\n",
    "\n",
    "df.to_csv(\"../data/api_logs_engineered.csv\", index=False)\n",
    "print(\"Enhanced dataset saved to /data/api_logs_engineered.csv\")"
   ]
  }
 ],
 "metadata": {
  "kernelspec": {
   "display_name": "base",
   "language": "python",
   "name": "python3"
  },
  "language_info": {
   "codemirror_mode": {
    "name": "ipython",
    "version": 3
   },
   "file_extension": ".py",
   "mimetype": "text/x-python",
   "name": "python",
   "nbconvert_exporter": "python",
   "pygments_lexer": "ipython3",
   "version": "3.12.7"
  }
 },
 "nbformat": 4,
 "nbformat_minor": 2
}
