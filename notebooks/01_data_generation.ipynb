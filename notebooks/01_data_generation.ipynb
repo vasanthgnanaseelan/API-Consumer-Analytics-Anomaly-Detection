{
 "cells": [
  {
   "cell_type": "markdown",
   "metadata": {},
   "source": [
    "Data Generation & Ingestion.\n",
    "Simulate 100,000 API requests across multiple endpoints, regions, and consumers to represent real-world API usage for anomaly detection and BI insights."
   ]
  },
  {
   "cell_type": "code",
   "execution_count": 2,
   "metadata": {},
   "outputs": [],
   "source": [
    "import pandas as pd\n",
    "import random\n",
    "import uuid\n",
    "from datetime import datetime, timedelta\n",
    "import numpy as np\n",
    "import os"
   ]
  },
  {
   "cell_type": "markdown",
   "metadata": {},
   "source": [
    "Fields:\n",
    "- timestamp, request_id, api_endpoint\n",
    "- response_time_ms, status_code\n",
    "- cpu_usage, memory_usage\n",
    "- region, user_agent, consumer_id"
   ]
  },
  {
   "cell_type": "code",
   "execution_count": 3,
   "metadata": {},
   "outputs": [
    {
     "name": "stderr",
     "output_type": "stream",
     "text": [
      "C:\\Users\\reach\\AppData\\Local\\Temp\\ipykernel_16128\\3029628300.py:3: DeprecationWarning: datetime.datetime.utcnow() is deprecated and scheduled for removal in a future version. Use timezone-aware objects to represent datetimes in UTC: datetime.datetime.now(datetime.UTC).\n",
      "  start_date = datetime.utcnow() - timedelta(days=180)\n"
     ]
    }
   ],
   "source": [
    "# Configuration\n",
    "n_records = 100000\n",
    "start_date = datetime.utcnow() - timedelta(days=180)\n",
    "endpoints = [\"/login\", \"/verify\", \"/transaction\", \"/balance\", \"/logout\", \"/admin/reset\", \"/user/profile\", \"/data/fetch\"]\n",
    "status_codes = [200, 200, 200, 401, 403, 404, 500]\n",
    "regions = [\"US\", \"EU\", \"ASIA\", \"AFRICA\", \"LATAM\"]\n",
    "user_agents = [\"PostmanRuntime\", \"Mozilla/5.0\", \"Python-urllib/3.9\", \"curl/7.68.0\"]\n",
    "consumer_ids = [f\"C{str(i).zfill(4)}\" for i in range(1, 201)]\n",
    "\n",
    "def generate_api_logs(n):\n",
    "    logs = []\n",
    "    for _ in range(n):\n",
    "        timestamp = start_date + timedelta(seconds=random.randint(0, int((datetime.utcnow() - start_date).total_seconds())))\n",
    "        api_endpoint = random.choices(endpoints, weights=[20, 15, 25, 10, 10, 2, 10, 8])[0]\n",
    "        response_time = round(np.abs(np.random.normal(loc=200, scale=50)), 2)\n",
    "        status = random.choices(status_codes, weights=[80, 5, 5, 2, 2, 3, 3])[0]\n",
    "        cpu = round(random.uniform(10, 95), 2)\n",
    "        memory = round(random.uniform(20, 90), 2)\n",
    "        request_id = str(uuid.uuid4())\n",
    "        region = random.choice(regions)\n",
    "        user_agent = random.choice(user_agents)\n",
    "        consumer_id = random.choice(consumer_ids)\n",
    "\n",
    "        logs.append({\n",
    "            \"timestamp\": timestamp.isoformat(),\n",
    "            \"request_id\": request_id,\n",
    "            \"api_endpoint\": api_endpoint,\n",
    "            \"response_time_ms\": response_time,\n",
    "            \"status_code\": status,\n",
    "            \"cpu_usage\": cpu,\n",
    "            \"memory_usage\": memory,\n",
    "            \"region\": region,\n",
    "            \"user_agent\": user_agent,\n",
    "            \"consumer_id\": consumer_id\n",
    "        })\n",
    "    \n",
    "    return pd.DataFrame(logs)"
   ]
  },
  {
   "cell_type": "code",
   "execution_count": 4,
   "metadata": {},
   "outputs": [
    {
     "name": "stderr",
     "output_type": "stream",
     "text": [
      "C:\\Users\\reach\\AppData\\Local\\Temp\\ipykernel_16128\\3029628300.py:13: DeprecationWarning: datetime.datetime.utcnow() is deprecated and scheduled for removal in a future version. Use timezone-aware objects to represent datetimes in UTC: datetime.datetime.now(datetime.UTC).\n",
      "  timestamp = start_date + timedelta(seconds=random.randint(0, int((datetime.utcnow() - start_date).total_seconds())))\n"
     ]
    },
    {
     "name": "stdout",
     "output_type": "stream",
     "text": [
      "API Logs saved to /data/api_logs_simulated.csv\n"
     ]
    }
   ],
   "source": [
    "# Generate and Save\n",
    "df = generate_api_logs(n_records)\n",
    "\n",
    "os.makedirs(\"../data\", exist_ok=True)\n",
    "df.to_csv(\"../data/api_logs_simulated.csv\", index=False)\n",
    "print(\"API Logs saved to /data/api_logs_simulated.csv\")"
   ]
  },
  {
   "cell_type": "code",
   "execution_count": 4,
   "metadata": {},
   "outputs": [
    {
     "data": {
      "text/html": [
       "<div>\n",
       "<style scoped>\n",
       "    .dataframe tbody tr th:only-of-type {\n",
       "        vertical-align: middle;\n",
       "    }\n",
       "\n",
       "    .dataframe tbody tr th {\n",
       "        vertical-align: top;\n",
       "    }\n",
       "\n",
       "    .dataframe thead th {\n",
       "        text-align: right;\n",
       "    }\n",
       "</style>\n",
       "<table border=\"1\" class=\"dataframe\">\n",
       "  <thead>\n",
       "    <tr style=\"text-align: right;\">\n",
       "      <th></th>\n",
       "      <th>timestamp</th>\n",
       "      <th>request_id</th>\n",
       "      <th>api_endpoint</th>\n",
       "      <th>response_time_ms</th>\n",
       "      <th>status_code</th>\n",
       "      <th>cpu_usage</th>\n",
       "      <th>memory_usage</th>\n",
       "      <th>region</th>\n",
       "      <th>user_agent</th>\n",
       "      <th>consumer_id</th>\n",
       "    </tr>\n",
       "  </thead>\n",
       "  <tbody>\n",
       "    <tr>\n",
       "      <th>0</th>\n",
       "      <td>2025-02-14T16:19:46.096855</td>\n",
       "      <td>e4b17461-f590-4e27-8f5f-17832d5720f2</td>\n",
       "      <td>/verify</td>\n",
       "      <td>162.56</td>\n",
       "      <td>200</td>\n",
       "      <td>92.00</td>\n",
       "      <td>43.17</td>\n",
       "      <td>ASIA</td>\n",
       "      <td>PostmanRuntime</td>\n",
       "      <td>C0121</td>\n",
       "    </tr>\n",
       "    <tr>\n",
       "      <th>1</th>\n",
       "      <td>2025-02-17T12:05:36.096855</td>\n",
       "      <td>f8783a16-fe7a-4a45-b27f-cc204ee3d524</td>\n",
       "      <td>/logout</td>\n",
       "      <td>131.69</td>\n",
       "      <td>200</td>\n",
       "      <td>51.19</td>\n",
       "      <td>53.33</td>\n",
       "      <td>LATAM</td>\n",
       "      <td>Mozilla/5.0</td>\n",
       "      <td>C0134</td>\n",
       "    </tr>\n",
       "    <tr>\n",
       "      <th>2</th>\n",
       "      <td>2024-10-05T17:31:59.096855</td>\n",
       "      <td>64f82ac9-ba4f-4551-a13a-e6883272e26c</td>\n",
       "      <td>/data/fetch</td>\n",
       "      <td>193.60</td>\n",
       "      <td>200</td>\n",
       "      <td>10.61</td>\n",
       "      <td>48.31</td>\n",
       "      <td>EU</td>\n",
       "      <td>Python-urllib/3.9</td>\n",
       "      <td>C0153</td>\n",
       "    </tr>\n",
       "    <tr>\n",
       "      <th>3</th>\n",
       "      <td>2025-02-06T02:36:56.096855</td>\n",
       "      <td>516a920a-578a-495e-b6e0-373842cbca0a</td>\n",
       "      <td>/verify</td>\n",
       "      <td>174.67</td>\n",
       "      <td>200</td>\n",
       "      <td>69.18</td>\n",
       "      <td>64.61</td>\n",
       "      <td>AFRICA</td>\n",
       "      <td>Mozilla/5.0</td>\n",
       "      <td>C0099</td>\n",
       "    </tr>\n",
       "    <tr>\n",
       "      <th>4</th>\n",
       "      <td>2025-03-15T11:26:52.096855</td>\n",
       "      <td>66c14b23-c662-48a6-a121-5c1a8a780bdd</td>\n",
       "      <td>/transaction</td>\n",
       "      <td>185.27</td>\n",
       "      <td>200</td>\n",
       "      <td>36.62</td>\n",
       "      <td>78.70</td>\n",
       "      <td>EU</td>\n",
       "      <td>Python-urllib/3.9</td>\n",
       "      <td>C0096</td>\n",
       "    </tr>\n",
       "  </tbody>\n",
       "</table>\n",
       "</div>"
      ],
      "text/plain": [
       "                    timestamp                            request_id  \\\n",
       "0  2025-02-14T16:19:46.096855  e4b17461-f590-4e27-8f5f-17832d5720f2   \n",
       "1  2025-02-17T12:05:36.096855  f8783a16-fe7a-4a45-b27f-cc204ee3d524   \n",
       "2  2024-10-05T17:31:59.096855  64f82ac9-ba4f-4551-a13a-e6883272e26c   \n",
       "3  2025-02-06T02:36:56.096855  516a920a-578a-495e-b6e0-373842cbca0a   \n",
       "4  2025-03-15T11:26:52.096855  66c14b23-c662-48a6-a121-5c1a8a780bdd   \n",
       "\n",
       "   api_endpoint  response_time_ms  status_code  cpu_usage  memory_usage  \\\n",
       "0       /verify            162.56          200      92.00         43.17   \n",
       "1       /logout            131.69          200      51.19         53.33   \n",
       "2   /data/fetch            193.60          200      10.61         48.31   \n",
       "3       /verify            174.67          200      69.18         64.61   \n",
       "4  /transaction            185.27          200      36.62         78.70   \n",
       "\n",
       "   region         user_agent consumer_id  \n",
       "0    ASIA     PostmanRuntime       C0121  \n",
       "1   LATAM        Mozilla/5.0       C0134  \n",
       "2      EU  Python-urllib/3.9       C0153  \n",
       "3  AFRICA        Mozilla/5.0       C0099  \n",
       "4      EU  Python-urllib/3.9       C0096  "
      ]
     },
     "execution_count": 4,
     "metadata": {},
     "output_type": "execute_result"
    }
   ],
   "source": [
    "df.head()"
   ]
  },
  {
   "cell_type": "code",
   "execution_count": 5,
   "metadata": {},
   "outputs": [
    {
     "data": {
      "text/plain": [
       "True"
      ]
     },
     "execution_count": 5,
     "metadata": {},
     "output_type": "execute_result"
    }
   ],
   "source": [
    "import os\n",
    "os.path.exists(\"../data/api_logs_simulated.csv\")"
   ]
  }
 ],
 "metadata": {
  "kernelspec": {
   "display_name": "base",
   "language": "python",
   "name": "python3"
  },
  "language_info": {
   "codemirror_mode": {
    "name": "ipython",
    "version": 3
   },
   "file_extension": ".py",
   "mimetype": "text/x-python",
   "name": "python",
   "nbconvert_exporter": "python",
   "pygments_lexer": "ipython3",
   "version": "3.12.7"
  }
 },
 "nbformat": 4,
 "nbformat_minor": 2
}
